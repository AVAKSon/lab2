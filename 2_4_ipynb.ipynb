{
  "nbformat": 4,
  "nbformat_minor": 0,
  "metadata": {
    "kernelspec": {
      "display_name": "PyCharm (neural_network_muctr)",
      "language": "python",
      "name": "pycharm-59d68c8e"
    },
    "language_info": {
      "codemirror_mode": {
        "name": "ipython",
        "version": 3
      },
      "file_extension": ".py",
      "mimetype": "text/x-python",
      "name": "python",
      "nbconvert_exporter": "python",
      "pygments_lexer": "ipython3",
      "version": "3.8.5"
    },
    "colab": {
      "name": "Копия блокнота \"2_4.ipynb\"",
      "provenance": [],
      "collapsed_sections": []
    }
  },
  "cells": [
    {
      "cell_type": "markdown",
      "metadata": {
        "id": "QjiR0XfRMkly"
      },
      "source": [
        "# Лабораторная работа № 2. Алгоритмизация обучения однослойного перцептрона"
      ]
    },
    {
      "cell_type": "code",
      "metadata": {
        "id": "nPsdyngtMkl2"
      },
      "source": [
        "import numpy as np\n",
        "from matplotlib import pyplot as plt"
      ],
      "execution_count": null,
      "outputs": []
    },
    {
      "cell_type": "code",
      "metadata": {
        "id": "OASMDARNMkl3"
      },
      "source": [
        "# сигмоидная логистическая функция\n",
        "def sigmoid(s):\n",
        "    return 1/(np.exp(-s)+1)\n",
        "\n",
        "def norm(s, s_min, s_max):\n",
        "    return (s-s_min)/(s_max-s_min)\n",
        "\n",
        "def denorm(sf, s_min, sf_max):\n",
        "    return s_min + s*(s_max - s_min)\n",
        "\n",
        "def mse(A, B):\n",
        "  return (np.square(A - B)).mean(axis=None)"
      ],
      "execution_count": null,
      "outputs": []
    },
    {
      "cell_type": "code",
      "metadata": {
        "id": "rq4d75PhMkl3"
      },
      "source": [
        "x =      np.random.randint(-10, 11, size= (50, 2))\n",
        "x =      np.column_stack((np.ones(50),x))\n",
        "x_test = np.random.randint(-10, 11, size= (25, 2))\n",
        "x_test = np.column_stack((np.ones(25),x_test))\n",
        "y =      np.column_stack((x[:,1]+x[:,2],\n",
        "                          x[:,2]+2*x[:,1],\n",
        "                          2*x[:,2]))\n",
        "\n",
        "y_test = np.column_stack((x_test[:,1]+x_test[:,2],\n",
        "                          x_test[:,2]+2*x_test[:,1],\n",
        "                          2*x_test[:,2]))"
      ],
      "execution_count": null,
      "outputs": []
    },
    {
      "cell_type": "code",
      "metadata": {
        "id": "5n-QVZKiMkl4"
      },
      "source": [
        "a_1 = -20\n",
        "b_1 = 20\n",
        "a_2 = 30\n",
        "b_2 = -30\n",
        "a_3 = -20\n",
        "b_3 =20"
      ],
      "execution_count": null,
      "outputs": []
    },
    {
      "cell_type": "code",
      "metadata": {
        "id": "-H8gREevMkl4"
      },
      "source": [
        "x_norm = np.column_stack((x[:,0], norm(x[:,1:], -10, 10)))\n",
        "x_test_norm = np.column_stack((x_test[:,0],norm(x_test[:,1:], -10, 10)))\n",
        "y_norm = np.column_stack((norm(y[:,0], a_1, b_1),\n",
        "          norm(y[:,1], a_2, b_2), norm(y[:,2], a_3, b_3)))\n",
        "y_test_norm = np.column_stack((norm(y_test[:,0], a_1, b_1),\n",
        "          norm(y_test[:,1], a_2, b_2), norm(y_test[:,2], a_3, b_3)))"
      ],
      "execution_count": null,
      "outputs": []
    },
    {
      "cell_type": "code",
      "metadata": {
        "colab": {
          "base_uri": "https://localhost:8080/"
        },
        "id": "M8CxMvuOMkl4",
        "outputId": "947b2361-c7c8-4cb6-cb44-490345d93107"
      },
      "source": [
        "weights = np.random.uniform(low=-1/2, high=1/2, size=(3,3))\n",
        "copy = weights.copy()\n",
        "mse(sigmoid(np.dot(x_norm, weights)), y_norm)"
      ],
      "execution_count": null,
      "outputs": [
        {
          "output_type": "execute_result",
          "data": {
            "text/plain": [
              "0.07174482887059971"
            ]
          },
          "metadata": {
            "tags": []
          },
          "execution_count": 6
        }
      ]
    },
    {
      "cell_type": "code",
      "metadata": {
        "id": "o3RTXN9OMkl4"
      },
      "source": [
        "epochs = []\n",
        "for v in np.linspace(0.001, 0.1, 10):\n",
        "  epoch = 0\n",
        "  errs = []\n",
        "  weights = copy.copy()\n",
        "  while True:\n",
        "    for x_i, y_i in zip(x_norm, y_norm):\n",
        "      err = y_i - sigmoid(np.dot(x_i, weights))\n",
        "      for i in range(weights.shape[0]):\n",
        "        for j in range(weights.shape[1]):\n",
        "          weights[i,j] += v*err[j]*x_i[i]\n",
        "    errs.append(mse(sigmoid(np.dot(x_norm, weights)), y_norm))\n",
        "    epoch += 1\n",
        "    if errs[-1] <= 0.01:\n",
        "      break\n",
        "  epochs.append(epoch)"
      ],
      "execution_count": null,
      "outputs": []
    },
    {
      "cell_type": "code",
      "metadata": {
        "colab": {
          "base_uri": "https://localhost:8080/"
        },
        "id": "i9tS9QwTXqbk",
        "outputId": "2a8bfcde-53fc-4772-93b7-690a7984cbe7"
      },
      "source": [
        "epochs"
      ],
      "execution_count": null,
      "outputs": [
        {
          "output_type": "execute_result",
          "data": {
            "text/plain": [
              "[1291, 108, 56, 38, 29, 23, 20, 17, 15, 13]"
            ]
          },
          "metadata": {
            "tags": []
          },
          "execution_count": 8
        }
      ]
    },
    {
      "cell_type": "code",
      "metadata": {
        "colab": {
          "base_uri": "https://localhost:8080/",
          "height": 312
        },
        "id": "NtMTid0BMkl5",
        "outputId": "bf4c43bf-745d-4e58-cd82-f10ca7483cf7"
      },
      "source": [
        "fig, ax = plt.subplots()\n",
        "ax.plot(np.linspace(0.001, 0.1, 10), epochs)\n",
        "ax.set_xlabel('epoch')\n",
        "ax.set_ylabel('error')\n",
        "ax.set_title('v=0.1')"
      ],
      "execution_count": null,
      "outputs": [
        {
          "output_type": "execute_result",
          "data": {
            "text/plain": [
              "Text(0.5, 1.0, 'v=0.1')"
            ]
          },
          "metadata": {
            "tags": []
          },
          "execution_count": 9
        },
        {
          "output_type": "display_data",
          "data": {
            "image/png": "[encoded data removed]",
            "text/plain": [
              "<Figure size 432x288 with 1 Axes>"
            ]
          },
          "metadata": {
            "tags": [],
            "needs_background": "light"
          }
        }
      ]
    },
    {
      "cell_type": "code",
      "metadata": {
        "id": "5woOUovbMkl5"
      },
      "source": [
        "weights1 = weights.copy()"
      ],
      "execution_count": null,
      "outputs": []
    },
    {
      "cell_type": "code",
      "metadata": {
        "id": "xkX9b209Mkl5"
      },
      "source": [
        "weights = copy.copy()\n",
        "errs = []\n",
        "for e in range(13):\n",
        "  v = (50-e)/50\n",
        "  for x_i, y_i in zip(x_norm, y_norm):\n",
        "    err = y_i - sigmoid(np.dot(x_i, weights))\n",
        "    for i in range(weights.shape[0]):\n",
        "      for j in range(weights.shape[1]):\n",
        "        weights[i,j] += v*err[j]*x_i[i]\n",
        "  errs.append(mse(sigmoid(np.dot(x_norm, weights)), y_norm))"
      ],
      "execution_count": null,
      "outputs": []
    },
    {
      "cell_type": "code",
      "metadata": {
        "colab": {
          "base_uri": "https://localhost:8080/",
          "height": 312
        },
        "id": "v8JZWPgwMkl5",
        "outputId": "fd0cc92f-2932-45cc-bc1c-47797bb1a72f"
      },
      "source": [
        "fig, ax = plt.subplots()\n",
        "ax.plot(np.arange(13), errs)\n",
        "ax.set_xlabel('epoch')\n",
        "ax.set_ylabel('error')\n",
        "ax.set_title('v=0.01')"
      ],
      "execution_count": null,
      "outputs": [
        {
          "output_type": "execute_result",
          "data": {
            "text/plain": [
              "Text(0.5, 1.0, 'v=0.01')"
            ]
          },
          "metadata": {
            "tags": []
          },
          "execution_count": 12
        },
        {
          "output_type": "display_data",
          "data": {
            "image/png": "[encoded data removed]",
            "text/plain": [
              "<Figure size 432x288 with 1 Axes>"
            ]
          },
          "metadata": {
            "tags": [],
            "needs_background": "light"
          }
        }
      ]
    },
    {
      "cell_type": "code",
      "metadata": {
        "colab": {
          "base_uri": "https://localhost:8080/",
          "height": 51
        },
        "id": "Xgh4NSjAMkl6",
        "outputId": "8dd92181-e067-4f89-b18b-68c277962c47"
      },
      "source": [
        "display(mse(sigmoid(np.dot(x_norm, weights)), y_norm))\n",
        "display(mse(sigmoid(np.dot(x_test_norm, weights)), y_test_norm))"
      ],
      "execution_count": null,
      "outputs": [
        {
          "output_type": "display_data",
          "data": {
            "text/plain": [
              "0.0003478062812308577"
            ]
          },
          "metadata": {
            "tags": []
          }
        },
        {
          "output_type": "display_data",
          "data": {
            "text/plain": [
              "0.0006075342092325518"
            ]
          },
          "metadata": {
            "tags": []
          }
        }
      ]
    },
    {
      "cell_type": "code",
      "metadata": {
        "id": "7Piso7o1Mkl6"
      },
      "source": [
        "\n"
      ],
      "execution_count": null,
      "outputs": []
    }
  ]
}